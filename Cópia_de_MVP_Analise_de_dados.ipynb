{
  "nbformat": 4,
  "nbformat_minor": 0,
  "metadata": {
    "colab": {
      "provenance": [],
      "toc_visible": true,
      "authorship_tag": "ABX9TyNxXb5HO4LfPs47uaa4Sphc",
      "include_colab_link": true
    },
    "kernelspec": {
      "name": "python3",
      "display_name": "Python 3"
    },
    "language_info": {
      "name": "python"
    }
  },
  "cells": [
    {
      "cell_type": "markdown",
      "metadata": {
        "id": "view-in-github",
        "colab_type": "text"
      },
      "source": [
        "<a href=\"https://colab.research.google.com/github/KevinSathler/MVP_PUC_Analise_de_dados/blob/main/C%C3%B3pia_de_MVP_Analise_de_dados.ipynb\" target=\"_parent\"><img src=\"https://colab.research.google.com/assets/colab-badge.svg\" alt=\"Open In Colab\"/></a>"
      ]
    },
    {
      "cell_type": "code",
      "execution_count": null,
      "metadata": {
        "id": "e--5HHOeadxI",
        "outputId": "1d0ff3ec-54b3-40e7-ce94-c57a00d4fb88",
        "colab": {
          "base_uri": "https://localhost:8080/"
        }
      },
      "outputs": [
        {
          "output_type": "stream",
          "name": "stdout",
          "text": [
            "   PRODUCT_BARCODE__C        DATE  ORIGINAL_QUANTITY__C TRANSFER_TO_NAME__C  \\\n",
            "0       7893500020110  30/11/2023                    10              SAO057   \n",
            "1       7891167011748  30/11/2023                    16              SAO057   \n",
            "2       7891025200680  30/11/2023                     6              SAO057   \n",
            "3       7898925943013  30/11/2023                     6              SAO057   \n",
            "4       7896030520259  30/11/2023                     6              SAO057   \n",
            "\n",
            "  FROM_INVENTORY_NAME__C     CATEGORY_LEVEL_1__C  \n",
            "0                 SAO903        MERCEARIA BASICA  \n",
            "1                 SAO903  MERCEARIA COMPLEMENTAR  \n",
            "2                 SAO903              LATICINIOS  \n",
            "3                 SAO903                CERVEJAS  \n",
            "4                 SAO903              LATICINIOS  \n"
          ]
        }
      ],
      "source": []
    },
    {
      "cell_type": "markdown",
      "source": [
        "### **MVP análise de dados e boas práticas**\n",
        "### *Aluno: Kevin Sathler Rêgo Chagas*"
      ],
      "metadata": {
        "id": "drpyXUklsQcl"
      }
    },
    {
      "cell_type": "code",
      "source": [
        "\n",
        "# imports necessários\n",
        "import pandas as pd\n",
        "\n",
        "# URL direto para o arquivo CSV no GitHub\n",
        "url = 'https://raw.githubusercontent.com/KevinSathler/MVP_PUC_Analise_de_dados/main/TO_History.csv'\n",
        "\n",
        "# Carregar o conjunto de dados usando o pandas\n",
        "dados = pd.read_csv(url)\n",
        "\n",
        "# Exibir as primeiras linhas do conjunto de dados para verificar se foi carregado corretamente\n",
        "print(dados.head())"
      ],
      "metadata": {
        "id": "rwHYbyZ5up74"
      },
      "execution_count": null,
      "outputs": []
    },
    {
      "cell_type": "markdown",
      "source": [
        "## **01. Descrição do problema**"
      ],
      "metadata": {
        "id": "DX3ZR6_nvVvT"
      }
    },
    {
      "cell_type": "markdown",
      "source": [
        "O dataset utilizado foi um upload de um arquivo .CSV nomeado como \"History_TO.csv\". Este arquivo foi carregado no mesmo diretório do GitHub que este Collab, de forma que haja maior facilidade na realização do carregamento do arquivo.\n",
        "Este dataset contém as informações de vendas dos produtos feitos para algumas lojas do estado de São Paulo nos últimos 30 dias, vendas feitas no formato B2B. Neste dataset é possível encontrar o código do produto enviado (barcode) para a loja, a data em que a venda foi realizada, a quantidade vendida para a loja, o código utilizado para identificar a loja que recebeu o produto e a categoria do produto vendido.\n",
        "\n",
        "**Informações sobre os atributos:**\n",
        "\n",
        "**PRODUCT_BARCODE__C:** Código de barras do produto (EAN), é a chave que diferencia um produto do outro.\n",
        "\n",
        "**DATE:** Data de envio do produto para a loja.\n",
        "\n",
        "**ORIGINAL_QUANTITY__C:** A quantidade unitária do EAN específico, que foi vendida para uma loja específica no dia específico.\n",
        "\n",
        "**TRANSFER_TO:** Representa o código da loja que receberá o produto.\n",
        "\n",
        "**TRANSFER_FROM_INVENTORY_NAME:** O código padrão do centro de distribuição que está enviando o produto.\n",
        "\n",
        "**CATEGORY_LEVEL_1__C:** Representa a categoria do produto que foi enviado á loja.\n"
      ],
      "metadata": {
        "id": "CtXltiWqyANp"
      }
    },
    {
      "cell_type": "markdown",
      "source": [],
      "metadata": {
        "id": "XOPeBEwLsp_V"
      }
    }
  ]
}